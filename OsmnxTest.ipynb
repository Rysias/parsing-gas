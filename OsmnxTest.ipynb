{
 "cells": [
  {
   "cell_type": "code",
   "execution_count": 19,
   "metadata": {},
   "outputs": [],
   "source": [
    "import osmnx as ox\n",
    "import pandas as pd\n",
    "from pathlib import Path\n",
    "import numpy as np\n",
    "\n",
    "import src.wrangle_bbr as wrangle"
   ]
  },
  {
   "cell_type": "code",
   "execution_count": 20,
   "metadata": {},
   "outputs": [
    {
     "ename": "ImportError",
     "evalue": "Missing optional dependency 'pyarrow'.  Use pip or conda to install pyarrow.",
     "output_type": "error",
     "traceback": [
      "\u001b[1;31m---------------------------------------------------------------------------\u001b[0m",
      "\u001b[1;31mModuleNotFoundError\u001b[0m                       Traceback (most recent call last)",
      "File \u001b[1;32mc:\\Users\\jhr\\Anaconda3\\envs\\cds-lang\\lib\\site-packages\\pandas\\compat\\_optional.py:138\u001b[0m, in \u001b[0;36mimport_optional_dependency\u001b[1;34m(name, extra, errors, min_version)\u001b[0m\n\u001b[0;32m    <a href='file:///c%3A/Users/jhr/Anaconda3/envs/cds-lang/lib/site-packages/pandas/compat/_optional.py?line=136'>137</a>\u001b[0m \u001b[39mtry\u001b[39;00m:\n\u001b[1;32m--> <a href='file:///c%3A/Users/jhr/Anaconda3/envs/cds-lang/lib/site-packages/pandas/compat/_optional.py?line=137'>138</a>\u001b[0m     module \u001b[39m=\u001b[39m importlib\u001b[39m.\u001b[39;49mimport_module(name)\n\u001b[0;32m    <a href='file:///c%3A/Users/jhr/Anaconda3/envs/cds-lang/lib/site-packages/pandas/compat/_optional.py?line=138'>139</a>\u001b[0m \u001b[39mexcept\u001b[39;00m \u001b[39mImportError\u001b[39;00m:\n",
      "File \u001b[1;32mc:\\Users\\jhr\\Anaconda3\\envs\\cds-lang\\lib\\importlib\\__init__.py:127\u001b[0m, in \u001b[0;36mimport_module\u001b[1;34m(name, package)\u001b[0m\n\u001b[0;32m    <a href='file:///c%3A/Users/jhr/Anaconda3/envs/cds-lang/lib/importlib/__init__.py?line=125'>126</a>\u001b[0m         level \u001b[39m+\u001b[39m\u001b[39m=\u001b[39m \u001b[39m1\u001b[39m\n\u001b[1;32m--> <a href='file:///c%3A/Users/jhr/Anaconda3/envs/cds-lang/lib/importlib/__init__.py?line=126'>127</a>\u001b[0m \u001b[39mreturn\u001b[39;00m _bootstrap\u001b[39m.\u001b[39;49m_gcd_import(name[level:], package, level)\n",
      "File \u001b[1;32m<frozen importlib._bootstrap>:1030\u001b[0m, in \u001b[0;36m_gcd_import\u001b[1;34m(name, package, level)\u001b[0m\n",
      "File \u001b[1;32m<frozen importlib._bootstrap>:1007\u001b[0m, in \u001b[0;36m_find_and_load\u001b[1;34m(name, import_)\u001b[0m\n",
      "File \u001b[1;32m<frozen importlib._bootstrap>:984\u001b[0m, in \u001b[0;36m_find_and_load_unlocked\u001b[1;34m(name, import_)\u001b[0m\n",
      "\u001b[1;31mModuleNotFoundError\u001b[0m: No module named 'pyarrow'",
      "\nDuring handling of the above exception, another exception occurred:\n",
      "\u001b[1;31mImportError\u001b[0m                               Traceback (most recent call last)",
      "\u001b[1;32mc:\\Users\\jhr\\parsing-gas\\OsmnxTest.ipynb Cell 2'\u001b[0m in \u001b[0;36m<cell line: 2>\u001b[1;34m()\u001b[0m\n\u001b[0;32m      <a href='vscode-notebook-cell:/c%3A/Users/jhr/parsing-gas/OsmnxTest.ipynb#ch0000004?line=0'>1</a>\u001b[0m DATA_DIR \u001b[39m=\u001b[39m Path(\u001b[39m\"\u001b[39m\u001b[39mdata\u001b[39m\u001b[39m\"\u001b[39m)\n\u001b[1;32m----> <a href='vscode-notebook-cell:/c%3A/Users/jhr/parsing-gas/OsmnxTest.ipynb#ch0000004?line=1'>2</a>\u001b[0m df \u001b[39m=\u001b[39m pd\u001b[39m.\u001b[39;49mread_feather(DATA_DIR \u001b[39m/\u001b[39;49m \u001b[39m\"\u001b[39;49m\u001b[39mselect_bbr2.feather\u001b[39;49m\u001b[39m\"\u001b[39;49m)\n",
      "File \u001b[1;32mc:\\Users\\jhr\\Anaconda3\\envs\\cds-lang\\lib\\site-packages\\pandas\\io\\feather_format.py:125\u001b[0m, in \u001b[0;36mread_feather\u001b[1;34m(path, columns, use_threads, storage_options)\u001b[0m\n\u001b[0;32m     <a href='file:///c%3A/Users/jhr/Anaconda3/envs/cds-lang/lib/site-packages/pandas/io/feather_format.py?line=95'>96</a>\u001b[0m \u001b[39m@doc\u001b[39m(storage_options\u001b[39m=\u001b[39m_shared_docs[\u001b[39m\"\u001b[39m\u001b[39mstorage_options\u001b[39m\u001b[39m\"\u001b[39m])\n\u001b[0;32m     <a href='file:///c%3A/Users/jhr/Anaconda3/envs/cds-lang/lib/site-packages/pandas/io/feather_format.py?line=96'>97</a>\u001b[0m \u001b[39mdef\u001b[39;00m \u001b[39mread_feather\u001b[39m(\n\u001b[0;32m     <a href='file:///c%3A/Users/jhr/Anaconda3/envs/cds-lang/lib/site-packages/pandas/io/feather_format.py?line=97'>98</a>\u001b[0m     path: FilePath \u001b[39m|\u001b[39m ReadBuffer[\u001b[39mbytes\u001b[39m],\n\u001b[1;32m   (...)\u001b[0m\n\u001b[0;32m    <a href='file:///c%3A/Users/jhr/Anaconda3/envs/cds-lang/lib/site-packages/pandas/io/feather_format.py?line=100'>101</a>\u001b[0m     storage_options: StorageOptions \u001b[39m=\u001b[39m \u001b[39mNone\u001b[39;00m,\n\u001b[0;32m    <a href='file:///c%3A/Users/jhr/Anaconda3/envs/cds-lang/lib/site-packages/pandas/io/feather_format.py?line=101'>102</a>\u001b[0m ):\n\u001b[0;32m    <a href='file:///c%3A/Users/jhr/Anaconda3/envs/cds-lang/lib/site-packages/pandas/io/feather_format.py?line=102'>103</a>\u001b[0m     \u001b[39m\"\"\"\u001b[39;00m\n\u001b[0;32m    <a href='file:///c%3A/Users/jhr/Anaconda3/envs/cds-lang/lib/site-packages/pandas/io/feather_format.py?line=103'>104</a>\u001b[0m \u001b[39m    Load a feather-format object from the file path.\u001b[39;00m\n\u001b[0;32m    <a href='file:///c%3A/Users/jhr/Anaconda3/envs/cds-lang/lib/site-packages/pandas/io/feather_format.py?line=104'>105</a>\u001b[0m \n\u001b[1;32m   (...)\u001b[0m\n\u001b[0;32m    <a href='file:///c%3A/Users/jhr/Anaconda3/envs/cds-lang/lib/site-packages/pandas/io/feather_format.py?line=122'>123</a>\u001b[0m \u001b[39m    type of object stored in file\u001b[39;00m\n\u001b[0;32m    <a href='file:///c%3A/Users/jhr/Anaconda3/envs/cds-lang/lib/site-packages/pandas/io/feather_format.py?line=123'>124</a>\u001b[0m \u001b[39m    \"\"\"\u001b[39;00m\n\u001b[1;32m--> <a href='file:///c%3A/Users/jhr/Anaconda3/envs/cds-lang/lib/site-packages/pandas/io/feather_format.py?line=124'>125</a>\u001b[0m     import_optional_dependency(\u001b[39m\"\u001b[39;49m\u001b[39mpyarrow\u001b[39;49m\u001b[39m\"\u001b[39;49m)\n\u001b[0;32m    <a href='file:///c%3A/Users/jhr/Anaconda3/envs/cds-lang/lib/site-packages/pandas/io/feather_format.py?line=125'>126</a>\u001b[0m     \u001b[39mfrom\u001b[39;00m \u001b[39mpyarrow\u001b[39;00m \u001b[39mimport\u001b[39;00m feather\n\u001b[0;32m    <a href='file:///c%3A/Users/jhr/Anaconda3/envs/cds-lang/lib/site-packages/pandas/io/feather_format.py?line=127'>128</a>\u001b[0m     \u001b[39mwith\u001b[39;00m get_handle(\n\u001b[0;32m    <a href='file:///c%3A/Users/jhr/Anaconda3/envs/cds-lang/lib/site-packages/pandas/io/feather_format.py?line=128'>129</a>\u001b[0m         path, \u001b[39m\"\u001b[39m\u001b[39mrb\u001b[39m\u001b[39m\"\u001b[39m, storage_options\u001b[39m=\u001b[39mstorage_options, is_text\u001b[39m=\u001b[39m\u001b[39mFalse\u001b[39;00m\n\u001b[0;32m    <a href='file:///c%3A/Users/jhr/Anaconda3/envs/cds-lang/lib/site-packages/pandas/io/feather_format.py?line=129'>130</a>\u001b[0m     ) \u001b[39mas\u001b[39;00m handles:\n",
      "File \u001b[1;32mc:\\Users\\jhr\\Anaconda3\\envs\\cds-lang\\lib\\site-packages\\pandas\\compat\\_optional.py:141\u001b[0m, in \u001b[0;36mimport_optional_dependency\u001b[1;34m(name, extra, errors, min_version)\u001b[0m\n\u001b[0;32m    <a href='file:///c%3A/Users/jhr/Anaconda3/envs/cds-lang/lib/site-packages/pandas/compat/_optional.py?line=138'>139</a>\u001b[0m \u001b[39mexcept\u001b[39;00m \u001b[39mImportError\u001b[39;00m:\n\u001b[0;32m    <a href='file:///c%3A/Users/jhr/Anaconda3/envs/cds-lang/lib/site-packages/pandas/compat/_optional.py?line=139'>140</a>\u001b[0m     \u001b[39mif\u001b[39;00m errors \u001b[39m==\u001b[39m \u001b[39m\"\u001b[39m\u001b[39mraise\u001b[39m\u001b[39m\"\u001b[39m:\n\u001b[1;32m--> <a href='file:///c%3A/Users/jhr/Anaconda3/envs/cds-lang/lib/site-packages/pandas/compat/_optional.py?line=140'>141</a>\u001b[0m         \u001b[39mraise\u001b[39;00m \u001b[39mImportError\u001b[39;00m(msg)\n\u001b[0;32m    <a href='file:///c%3A/Users/jhr/Anaconda3/envs/cds-lang/lib/site-packages/pandas/compat/_optional.py?line=141'>142</a>\u001b[0m     \u001b[39melse\u001b[39;00m:\n\u001b[0;32m    <a href='file:///c%3A/Users/jhr/Anaconda3/envs/cds-lang/lib/site-packages/pandas/compat/_optional.py?line=142'>143</a>\u001b[0m         \u001b[39mreturn\u001b[39;00m \u001b[39mNone\u001b[39;00m\n",
      "\u001b[1;31mImportError\u001b[0m: Missing optional dependency 'pyarrow'.  Use pip or conda to install pyarrow."
     ]
    }
   ],
   "source": [
    "DATA_DIR = Path(\"data\")\n",
    "df = pd.read_feather(DATA_DIR / \"select_bbr2.feather\")\n",
    "df.fillna(value=np.nan, inplace=True)\n",
    "wrangle.clean_columns(df)\n",
    "dtypes = {\"varmeinstallation\": \"int8\", \n",
    "          \"opvarmningsmiddel\": \"float\",\n",
    "          }\n",
    "df = df.astype(dtypes)\n",
    "df = df[~df[\"koordinat\"].isin(['POINT(0 0)', 'POINT(0 0.5)'])]\n",
    "# make into category\n",
    "df[\"bygningens_anvendelse\"] = df[\"bygningens_anvendelse\"].astype(\"category\")\n"
   ]
  },
  {
   "cell_type": "code",
   "execution_count": 3,
   "metadata": {},
   "outputs": [],
   "source": [
    "\n",
    "place = \"Thisted Municipality\"\n",
    "G = ox.graph_from_place(place, network_type=\"drive\")\n",
    "Gp = ox.project_graph(G)"
   ]
  },
  {
   "cell_type": "code",
   "execution_count": 5,
   "metadata": {},
   "outputs": [],
   "source": [
    "points = ox.utils_geo.sample_points(ox.get_undirected(Gp), n=100)\n",
    "X = points.x.values\n",
    "Y = points.y.values\n",
    "X0 = X.mean()\n",
    "Y0 = Y.mean()"
   ]
  },
  {
   "cell_type": "code",
   "execution_count": 17,
   "metadata": {},
   "outputs": [
    {
     "data": {
      "text/plain": [
       "6281593.249334324"
      ]
     },
     "execution_count": 17,
     "metadata": {},
     "output_type": "execute_result"
    }
   ],
   "source": [
    "Y.min()"
   ]
  }
 ],
 "metadata": {
  "interpreter": {
   "hash": "c5923c95a727ee36eb19daf1b1449e67914ae9326dbd02e970c5c5d61e9f98bc"
  },
  "kernelspec": {
   "display_name": "Python 3.9.12 ('cds-lang')",
   "language": "python",
   "name": "python3"
  },
  "language_info": {
   "codemirror_mode": {
    "name": "ipython",
    "version": 3
   },
   "file_extension": ".py",
   "mimetype": "text/x-python",
   "name": "python",
   "nbconvert_exporter": "python",
   "pygments_lexer": "ipython3",
   "version": "3.9.12"
  },
  "orig_nbformat": 4
 },
 "nbformat": 4,
 "nbformat_minor": 2
}
