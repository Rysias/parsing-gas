{
 "cells": [
  {
   "cell_type": "markdown",
   "metadata": {},
   "source": [
    "# Counting houses and all that jazz\n",
    "## Stuff to do \n",
    "- [x] Deduplicate\n",
    "- [x] Filter to only fjernvarme and gas\n",
    "- [ ] Estimate bolig per building\n",
    "- [x] Calculate all the distances\n",
    "- [ ] CHANGE DISTANCE CALCULATIONS TO UTM / EUCLIDIAN\n",
    "- [ ] FIGURE OUT WHY EVERYONE IS SO CLOSE TO FJERNVARME?????"
   ]
  },
  {
   "cell_type": "code",
   "execution_count": 2,
   "metadata": {},
   "outputs": [],
   "source": [
    "import pandas as pd\n",
    "import numpy as np\n",
    "from pathlib import Path\n",
    "import logging\n",
    "import src.geo_transform as gt\n",
    "import src.wrangle_bbr as wrangle\n",
    "from typing import Union\n",
    "\n",
    "logging.basicConfig(\n",
    "    level=logging.INFO, format=\"%(asctime)s - %(name)s - %(levelname)s - %(message)s\"\n",
    ")"
   ]
  },
  {
   "cell_type": "code",
   "execution_count": 2,
   "metadata": {},
   "outputs": [],
   "source": []
  },
  {
   "cell_type": "code",
   "execution_count": 3,
   "metadata": {},
   "outputs": [
    {
     "name": "stderr",
     "output_type": "stream",
     "text": [
      "C:\\Users\\jhr\\AppData\\Local\\Temp\\ipykernel_2844\\4090596968.py:2: DtypeWarning: Columns (12) have mixed types. Specify dtype option on import or set low_memory=False.\n",
      "  df = pd.read_csv(DATA_DIR / \"select_bbr2.csv\")\n"
     ]
    }
   ],
   "source": [
    "DATA_DIR = Path(\"data\")\n",
    "df = pd.read_csv(DATA_DIR / \"select_bbr2.csv\")\n",
    "df = df[~df[\"koordinat\"].isin(['POINT(0 0)', 'POINT(0 0.5)'])]\n",
    "# make into category\n",
    "df[\"bygningens_anvendelse\"] = df[\"bygningens_anvendelse\"].astype(\"category\")"
   ]
  },
  {
   "cell_type": "code",
   "execution_count": 7,
   "metadata": {},
   "outputs": [
    {
     "data": {
      "text/plain": [
       "1    2861751\n",
       "3     124938\n",
       "2       8608\n",
       "Name: kvalitet_af_koordinatsæt, dtype: int64"
      ]
     },
     "execution_count": 7,
     "metadata": {},
     "output_type": "execute_result"
    }
   ],
   "source": [
    "df[\"kvalitet_af_koordinatsæt\"].value_counts()"
   ]
  },
  {
   "cell_type": "markdown",
   "metadata": {},
   "source": [
    "## Filtering to only have gas and fjernvarme\n",
    "I follow the [official documentation from BBR](https://instruks.bbr.dk/varmeinstallation1/0/30). Here I choose `1` (fjernvarme/blokvarme) and `8` (gas) "
   ]
  },
  {
   "cell_type": "code",
   "execution_count": 6,
   "metadata": {},
   "outputs": [
    {
     "name": "stderr",
     "output_type": "stream",
     "text": [
      "2022-06-01 08:35:23,715 - root - INFO - 374966 buildings use gas\n",
      "2022-06-01 08:35:23,721 - root - INFO - 890037 buildings use fjernvarme\n"
     ]
    }
   ],
   "source": [
    "uses_gas = df[\"opvarmningsmiddel\"].isin([2, 7]) | df[\"varmeinstallation\"].isin([8])\n",
    "uses_fjernvarme = df[\"varmeinstallation\"] == 1\n",
    "logging.info(\"%s buildings use gas\", uses_gas.sum())\n",
    "logging.info(\"%s buildings use fjernvarme\", uses_fjernvarme.sum())\n"
   ]
  },
  {
   "cell_type": "markdown",
   "metadata": {},
   "source": [
    "## Getting coords for fjernvarme\n",
    "- Haversine was totally fucked because of floating point shit\n",
    "- Euclidean "
   ]
  },
  {
   "cell_type": "code",
   "execution_count": 7,
   "metadata": {},
   "outputs": [],
   "source": [
    "cols_to_use  =[\"husnummer\", \"koordinat\", \"kommunekode\"]\n",
    "fjernvarme_koords = df.loc[uses_fjernvarme, cols_to_use].drop_duplicates().dropna()\n",
    "gas_koords = df.loc[uses_gas, cols_to_use].drop_duplicates().dropna()"
   ]
  },
  {
   "cell_type": "code",
   "execution_count": 9,
   "metadata": {},
   "outputs": [],
   "source": [
    "gas_coords = gt.points_to_coords(gas_koords[\"koordinat\"]).astype(float)\n",
    "fjernvarme_coords = gt.points_to_coords(fjernvarme_koords[\"koordinat\"]).astype(float)"
   ]
  },
  {
   "cell_type": "code",
   "execution_count": 12,
   "metadata": {},
   "outputs": [
    {
     "data": {
      "text/plain": [
       "2018477"
      ]
     },
     "execution_count": 12,
     "metadata": {},
     "output_type": "execute_result"
    }
   ],
   "source": [
    "df[\"husnummer\"].unique().shape[0]"
   ]
  },
  {
   "cell_type": "code",
   "execution_count": 44,
   "metadata": {},
   "outputs": [],
   "source": [
    "gas_lat, gas_long = gt.points_to_wgs84(gas_koords[\"koordinat\"])\n",
    "fjernvarme_lat, fjernvarme_long = gt.points_to_wgs84(fjernvarme_koords[\"koordinat\"])"
   ]
  },
  {
   "cell_type": "code",
   "execution_count": 26,
   "metadata": {},
   "outputs": [
    {
     "name": "stdout",
     "output_type": "stream",
     "text": [
      "gas_lat.max() = 57.73800683881866\n",
      "gas_long.max() = 14.749962423627748\n",
      "gas_long.min() = 8.105017832729311\n",
      "gas_lat.min() = 54.69872080822638\n",
      "fjernvarme_lat.max() = 57.73795404356347\n",
      "fjernvarme_long.max() = 15.150033834562564\n",
      "fjernvarme_long.min() = 8.109777986434672\n",
      "fjernvarme_lat.min() = 54.57082859765103\n"
     ]
    }
   ],
   "source": [
    "print(f\"{gas_lat.max() = }\")\n",
    "print(f\"{gas_long.max() = }\")\n",
    "print(f\"{gas_long.min() = }\")\n",
    "print(f\"{gas_lat.min() = }\")\n",
    "print(f\"{fjernvarme_lat.max() = }\")\n",
    "print(f\"{fjernvarme_long.max() = }\")\n",
    "print(f\"{fjernvarme_long.min() = }\")\n",
    "print(f\"{fjernvarme_lat.min() = }\")"
   ]
  },
  {
   "cell_type": "markdown",
   "metadata": {},
   "source": [
    "## Testing Euclidean distance"
   ]
  },
  {
   "cell_type": "code",
   "execution_count": 10,
   "metadata": {},
   "outputs": [],
   "source": [
    "# Euclidian distance with kdtree\n",
    "from sklearn.neighbors import KDTree\n",
    "\n",
    "tree = KDTree(fjernvarme_coords, leaf_size=30, metric=\"euclidean\")\n",
    "\n",
    "# find the closest gas station to each fjernvarme\n",
    "gas_distances, gas_indices = tree.query(gas_coords, k=1)\n"
   ]
  },
  {
   "cell_type": "code",
   "execution_count": 37,
   "metadata": {},
   "outputs": [],
   "source": [
    "close_fjern = fjernvarme_coords.loc[gas_indices.reshape(-1), :].reset_index()"
   ]
  },
  {
   "cell_type": "code",
   "execution_count": 16,
   "metadata": {},
   "outputs": [
    {
     "data": {
      "text/plain": [
       "array([[359091],\n",
       "       [822858],\n",
       "       [ 17789],\n",
       "       ...,\n",
       "       [333375],\n",
       "       [859326],\n",
       "       [826257]], dtype=int64)"
      ]
     },
     "execution_count": 16,
     "metadata": {},
     "output_type": "execute_result"
    }
   ],
   "source": [
    "gas_indices"
   ]
  },
  {
   "cell_type": "code",
   "execution_count": 47,
   "metadata": {},
   "outputs": [],
   "source": [
    "close_fjernlat = fjernvarme_lat[gas_indices].reshape(-1)\n",
    "close_fjernlong = fjernvarme_long[gas_indices].reshape(-1)"
   ]
  },
  {
   "cell_type": "code",
   "execution_count": 27,
   "metadata": {},
   "outputs": [
    {
     "data": {
      "text/plain": [
       "True"
      ]
     },
     "execution_count": 27,
     "metadata": {},
     "output_type": "execute_result"
    }
   ],
   "source": [
    "close_fjernvarme.shape[0] == gas_distances.shape[0] == gas_koords.shape[0] == gas_coords.shape[0]"
   ]
  },
  {
   "cell_type": "code",
   "execution_count": 11,
   "metadata": {},
   "outputs": [
    {
     "name": "stderr",
     "output_type": "stream",
     "text": [
      "2022-05-23 09:23:25,334 - root - INFO - 254061 buildings are more short distance out of 374562 buildings\n",
      "2022-05-23 09:23:25,335 - root - INFO - 57004 buildings are more short distance out of 374562 buildings\n",
      "2022-05-23 09:23:25,336 - root - INFO - 63497 buildings are more short distance out of 374562 buildings\n"
     ]
    }
   ],
   "source": [
    "SHORT_DIST = 500\n",
    "LONG_DIST = 1000\n",
    "\n",
    "short_gas = (gas_distances < SHORT_DIST).sum()\n",
    "medium_gas = ((LONG_DIST > gas_distances) & (gas_distances > SHORT_DIST)).sum()\n",
    "long_gas = (gas_distances > LONG_DIST).sum()\n",
    "logging.info(\"%s buildings are more short distance out of %s buildings\", short_gas,  gas_distances.shape[0])\n",
    "logging.info(\"%s buildings are more short distance out of %s buildings\", medium_gas,  gas_distances.shape[0])\n",
    "logging.info(\"%s buildings are more short distance out of %s buildings\", long_gas,  gas_distances.shape[0])"
   ]
  },
  {
   "cell_type": "code",
   "execution_count": 38,
   "metadata": {},
   "outputs": [
    {
     "data": {
      "text/html": [
       "<div>\n",
       "<style scoped>\n",
       "    .dataframe tbody tr th:only-of-type {\n",
       "        vertical-align: middle;\n",
       "    }\n",
       "\n",
       "    .dataframe tbody tr th {\n",
       "        vertical-align: top;\n",
       "    }\n",
       "\n",
       "    .dataframe thead th {\n",
       "        text-align: right;\n",
       "    }\n",
       "</style>\n",
       "<table border=\"1\" class=\"dataframe\">\n",
       "  <thead>\n",
       "    <tr style=\"text-align: right;\">\n",
       "      <th></th>\n",
       "      <th>husnummer</th>\n",
       "      <th>koordinat</th>\n",
       "    </tr>\n",
       "  </thead>\n",
       "  <tbody>\n",
       "    <tr>\n",
       "      <th>0</th>\n",
       "      <td>0a3f5090-a68c-32b8-e044-0003ba298018</td>\n",
       "      <td>POINT(516612.96 6142758.59)</td>\n",
       "    </tr>\n",
       "    <tr>\n",
       "      <th>1</th>\n",
       "      <td>0a3f507d-a4b9-32b8-e044-0003ba298018</td>\n",
       "      <td>POINT(721498.37 6192612.49)</td>\n",
       "    </tr>\n",
       "    <tr>\n",
       "      <th>3</th>\n",
       "      <td>0a3f5094-0318-32b8-e044-0003ba298018</td>\n",
       "      <td>POINT(557868.43 6254433.17)</td>\n",
       "    </tr>\n",
       "    <tr>\n",
       "      <th>14</th>\n",
       "      <td>0a3f508f-7e22-32b8-e044-0003ba298018</td>\n",
       "      <td>POINT(543759.35 6182600.29)</td>\n",
       "    </tr>\n",
       "    <tr>\n",
       "      <th>17</th>\n",
       "      <td>0a3f5082-3f88-32b8-e044-0003ba298018</td>\n",
       "      <td>POINT(703438.09 6158525.48)</td>\n",
       "    </tr>\n",
       "    <tr>\n",
       "      <th>...</th>\n",
       "      <td>...</td>\n",
       "      <td>...</td>\n",
       "    </tr>\n",
       "    <tr>\n",
       "      <th>1265030</th>\n",
       "      <td>0a3f5093-d578-32b8-e044-0003ba298018</td>\n",
       "      <td>POINT(551073 6237512)</td>\n",
       "    </tr>\n",
       "    <tr>\n",
       "      <th>1265032</th>\n",
       "      <td>0a3f5082-4647-32b8-e044-0003ba298018</td>\n",
       "      <td>POINT(702510.07 6157716.9)</td>\n",
       "    </tr>\n",
       "    <tr>\n",
       "      <th>1265039</th>\n",
       "      <td>0a3f5090-a2ca-32b8-e044-0003ba298018</td>\n",
       "      <td>POINT(524420.18 6139971.93)</td>\n",
       "    </tr>\n",
       "    <tr>\n",
       "      <th>1265042</th>\n",
       "      <td>0a3f5094-3456-32b8-e044-0003ba298018</td>\n",
       "      <td>POINT(568181.8 6268750.2)</td>\n",
       "    </tr>\n",
       "    <tr>\n",
       "      <th>1265043</th>\n",
       "      <td>0a3f5092-fe1f-32b8-e044-0003ba298018</td>\n",
       "      <td>POINT(476884.55 6214272.44)</td>\n",
       "    </tr>\n",
       "  </tbody>\n",
       "</table>\n",
       "<p>374562 rows × 2 columns</p>\n",
       "</div>"
      ],
      "text/plain": [
       "                                    husnummer                    koordinat\n",
       "0        0a3f5090-a68c-32b8-e044-0003ba298018  POINT(516612.96 6142758.59)\n",
       "1        0a3f507d-a4b9-32b8-e044-0003ba298018  POINT(721498.37 6192612.49)\n",
       "3        0a3f5094-0318-32b8-e044-0003ba298018  POINT(557868.43 6254433.17)\n",
       "14       0a3f508f-7e22-32b8-e044-0003ba298018  POINT(543759.35 6182600.29)\n",
       "17       0a3f5082-3f88-32b8-e044-0003ba298018  POINT(703438.09 6158525.48)\n",
       "...                                       ...                          ...\n",
       "1265030  0a3f5093-d578-32b8-e044-0003ba298018        POINT(551073 6237512)\n",
       "1265032  0a3f5082-4647-32b8-e044-0003ba298018   POINT(702510.07 6157716.9)\n",
       "1265039  0a3f5090-a2ca-32b8-e044-0003ba298018  POINT(524420.18 6139971.93)\n",
       "1265042  0a3f5094-3456-32b8-e044-0003ba298018    POINT(568181.8 6268750.2)\n",
       "1265043  0a3f5092-fe1f-32b8-e044-0003ba298018  POINT(476884.55 6214272.44)\n",
       "\n",
       "[374562 rows x 2 columns]"
      ]
     },
     "execution_count": 38,
     "metadata": {},
     "output_type": "execute_result"
    }
   ],
   "source": [
    "gas_koords"
   ]
  },
  {
   "cell_type": "code",
   "execution_count": null,
   "metadata": {},
   "outputs": [],
   "source": [
    "\n",
    "pd.DataFrame({\n",
    "    \"ID\": gas_koords[\"husnummer\"], \n",
    "    \"kommunekode\": gas_koords[\"kommunekode\"],\n",
    "    \"gas_lat\": gas_lat.reshape(-1), \n",
    "    \"gas_long\": gas_long.reshape(-1), \n",
    "    \"distance\": gas_distances.reshape(-1),\n",
    "    \"fjernvarme_lat\": close_fjernlat,\n",
    "    \"fjernvarme_long\": close_fjernlong, \n",
    "}).to_csv(DATA_DIR / \"gas_fjernvarme_distances.csv\", index=False)"
   ]
  },
  {
   "cell_type": "code",
   "execution_count": 30,
   "metadata": {},
   "outputs": [
    {
     "data": {
      "text/plain": [
       "(374562,)"
      ]
     },
     "execution_count": 30,
     "metadata": {},
     "output_type": "execute_result"
    }
   ],
   "source": [
    "gas_distances[:, 0].shape"
   ]
  },
  {
   "cell_type": "code",
   "execution_count": 36,
   "metadata": {},
   "outputs": [
    {
     "data": {
      "text/html": [
       "<div>\n",
       "<style scoped>\n",
       "    .dataframe tbody tr th:only-of-type {\n",
       "        vertical-align: middle;\n",
       "    }\n",
       "\n",
       "    .dataframe tbody tr th {\n",
       "        vertical-align: top;\n",
       "    }\n",
       "\n",
       "    .dataframe thead th {\n",
       "        text-align: right;\n",
       "    }\n",
       "</style>\n",
       "<table border=\"1\" class=\"dataframe\">\n",
       "  <thead>\n",
       "    <tr style=\"text-align: right;\">\n",
       "      <th></th>\n",
       "      <th>ID</th>\n",
       "      <th>kommunekode</th>\n",
       "      <th>gas_x</th>\n",
       "      <th>gas_y</th>\n",
       "      <th>distance</th>\n",
       "    </tr>\n",
       "  </thead>\n",
       "  <tbody>\n",
       "    <tr>\n",
       "      <th>0</th>\n",
       "      <td>0a3f5090-a68c-32b8-e044-0003ba298018</td>\n",
       "      <td>621</td>\n",
       "      <td>516612.96</td>\n",
       "      <td>6142758.59</td>\n",
       "      <td>182.048449</td>\n",
       "    </tr>\n",
       "    <tr>\n",
       "      <th>1</th>\n",
       "      <td>0a3f507d-a4b9-32b8-e044-0003ba298018</td>\n",
       "      <td>230</td>\n",
       "      <td>721498.37</td>\n",
       "      <td>6192612.49</td>\n",
       "      <td>221.696775</td>\n",
       "    </tr>\n",
       "    <tr>\n",
       "      <th>2</th>\n",
       "      <td>0a3f5094-0318-32b8-e044-0003ba298018</td>\n",
       "      <td>730</td>\n",
       "      <td>557868.43</td>\n",
       "      <td>6254433.17</td>\n",
       "      <td>439.560751</td>\n",
       "    </tr>\n",
       "    <tr>\n",
       "      <th>3</th>\n",
       "      <td>0a3f508f-7e22-32b8-e044-0003ba298018</td>\n",
       "      <td>766</td>\n",
       "      <td>543759.35</td>\n",
       "      <td>6182600.29</td>\n",
       "      <td>733.776056</td>\n",
       "    </tr>\n",
       "    <tr>\n",
       "      <th>4</th>\n",
       "      <td>0a3f5082-3f88-32b8-e044-0003ba298018</td>\n",
       "      <td>269</td>\n",
       "      <td>703438.09</td>\n",
       "      <td>6158525.48</td>\n",
       "      <td>62.081472</td>\n",
       "    </tr>\n",
       "    <tr>\n",
       "      <th>...</th>\n",
       "      <td>...</td>\n",
       "      <td>...</td>\n",
       "      <td>...</td>\n",
       "      <td>...</td>\n",
       "      <td>...</td>\n",
       "    </tr>\n",
       "    <tr>\n",
       "      <th>374557</th>\n",
       "      <td>0a3f5093-d578-32b8-e044-0003ba298018</td>\n",
       "      <td>710</td>\n",
       "      <td>551073.00</td>\n",
       "      <td>6237512.00</td>\n",
       "      <td>555.152745</td>\n",
       "    </tr>\n",
       "    <tr>\n",
       "      <th>374558</th>\n",
       "      <td>0a3f5082-4647-32b8-e044-0003ba298018</td>\n",
       "      <td>269</td>\n",
       "      <td>702510.07</td>\n",
       "      <td>6157716.90</td>\n",
       "      <td>91.571024</td>\n",
       "    </tr>\n",
       "    <tr>\n",
       "      <th>374559</th>\n",
       "      <td>0a3f5090-a2ca-32b8-e044-0003ba298018</td>\n",
       "      <td>621</td>\n",
       "      <td>524420.18</td>\n",
       "      <td>6139971.93</td>\n",
       "      <td>3603.517402</td>\n",
       "    </tr>\n",
       "    <tr>\n",
       "      <th>374560</th>\n",
       "      <td>0a3f5094-3456-32b8-e044-0003ba298018</td>\n",
       "      <td>730</td>\n",
       "      <td>568181.80</td>\n",
       "      <td>6268750.20</td>\n",
       "      <td>145.543761</td>\n",
       "    </tr>\n",
       "    <tr>\n",
       "      <th>374561</th>\n",
       "      <td>0a3f5092-fe1f-32b8-e044-0003ba298018</td>\n",
       "      <td>760</td>\n",
       "      <td>476884.55</td>\n",
       "      <td>6214272.44</td>\n",
       "      <td>936.257890</td>\n",
       "    </tr>\n",
       "  </tbody>\n",
       "</table>\n",
       "<p>374562 rows × 5 columns</p>\n",
       "</div>"
      ],
      "text/plain": [
       "                                          ID  kommunekode      gas_x  \\\n",
       "0       0a3f5090-a68c-32b8-e044-0003ba298018          621  516612.96   \n",
       "1       0a3f507d-a4b9-32b8-e044-0003ba298018          230  721498.37   \n",
       "2       0a3f5094-0318-32b8-e044-0003ba298018          730  557868.43   \n",
       "3       0a3f508f-7e22-32b8-e044-0003ba298018          766  543759.35   \n",
       "4       0a3f5082-3f88-32b8-e044-0003ba298018          269  703438.09   \n",
       "...                                      ...          ...        ...   \n",
       "374557  0a3f5093-d578-32b8-e044-0003ba298018          710  551073.00   \n",
       "374558  0a3f5082-4647-32b8-e044-0003ba298018          269  702510.07   \n",
       "374559  0a3f5090-a2ca-32b8-e044-0003ba298018          621  524420.18   \n",
       "374560  0a3f5094-3456-32b8-e044-0003ba298018          730  568181.80   \n",
       "374561  0a3f5092-fe1f-32b8-e044-0003ba298018          760  476884.55   \n",
       "\n",
       "             gas_y     distance  \n",
       "0       6142758.59   182.048449  \n",
       "1       6192612.49   221.696775  \n",
       "2       6254433.17   439.560751  \n",
       "3       6182600.29   733.776056  \n",
       "4       6158525.48    62.081472  \n",
       "...            ...          ...  \n",
       "374557  6237512.00   555.152745  \n",
       "374558  6157716.90    91.571024  \n",
       "374559  6139971.93  3603.517402  \n",
       "374560  6268750.20   145.543761  \n",
       "374561  6214272.44   936.257890  \n",
       "\n",
       "[374562 rows x 5 columns]"
      ]
     },
     "execution_count": 36,
     "metadata": {},
     "output_type": "execute_result"
    }
   ],
   "source": [
    "\n",
    "output_df = pd.DataFrame({\n",
    "    \"ID\": gas_koords[\"husnummer\"].reset_index(drop=True),\n",
    "    \"kommunekode\": gas_koords[\"kommunekode\"].reset_index(drop=True),\n",
    "    \"gas_x\": gas_coords[\"x\"], \n",
    "    \"gas_y\": gas_coords[\"y\"], \n",
    "    \"distance\": gas_distances[:, 0],\n",
    "    \"fjernvarme_x\": close_fjern[\"x\"],\n",
    "    \"fjernvarme_y\": close_fjern[\"y\"], \n",
    "})#\n",
    "\n",
    "output_df\n",
    "#\n",
    "# .to_csv(DATA_DIR / \"gas_fjernvarme_xy.csv\", index=False)"
   ]
  },
  {
   "cell_type": "code",
   "execution_count": 14,
   "metadata": {},
   "outputs": [],
   "source": [
    "pd.DataFrame({\n",
    "    \"ID\": gas_koords[\"husnummer\"], \n",
    "    \"lat\": gas_lat.reshape(-1), \n",
    "    \"long\": gas_long.reshape(-1), \n",
    "    \"distance\": gas_distances.reshape(-1), \n",
    "}).to_csv(\"out/gas_distances.csv\", index=False)"
   ]
  },
  {
   "cell_type": "code",
   "execution_count": 14,
   "metadata": {},
   "outputs": [
    {
     "data": {
      "text/plain": [
       "(2018477,)"
      ]
     },
     "execution_count": 14,
     "metadata": {},
     "output_type": "execute_result"
    }
   ],
   "source": [
    "df[\"husnummer\"].drop_duplicates().shape"
   ]
  },
  {
   "cell_type": "code",
   "execution_count": 15,
   "metadata": {},
   "outputs": [
    {
     "data": {
      "text/plain": [
       "888315"
      ]
     },
     "execution_count": 15,
     "metadata": {},
     "output_type": "execute_result"
    }
   ],
   "source": [
    "fjernvarme_coords.shape[0]"
   ]
  },
  {
   "cell_type": "code",
   "execution_count": 28,
   "metadata": {},
   "outputs": [
    {
     "data": {
      "text/plain": [
       "49167.29290311298"
      ]
     },
     "execution_count": 28,
     "metadata": {},
     "output_type": "execute_result"
    }
   ],
   "source": [
    "gas_distances.max()"
   ]
  },
  {
   "cell_type": "code",
   "execution_count": 29,
   "metadata": {},
   "outputs": [
    {
     "data": {
      "text/plain": [
       "<AxesSubplot:>"
      ]
     },
     "execution_count": 29,
     "metadata": {},
     "output_type": "execute_result"
    },
    {
     "data": {
      "image/png": "[encoded data removed]",
      "text/plain": [
       "<Figure size 432x288 with 1 Axes>"
      ]
     },
     "metadata": {
      "needs_background": "light"
     },
     "output_type": "display_data"
    }
   ],
   "source": [
    "pd.Series(gas_distances.reshape(-1)).hist(bins=100)"
   ]
  },
  {
   "cell_type": "code",
   "execution_count": 12,
   "metadata": {},
   "outputs": [],
   "source": [
    "from sklearn.neighbors import BallTree\n",
    "\n",
    "tree = BallTree(fjernvarme_latlon, metric=\"haversine\")\n",
    "distances, indices = tree.query(gas_latlon, k=1)"
   ]
  },
  {
   "cell_type": "code",
   "execution_count": 18,
   "metadata": {},
   "outputs": [
    {
     "data": {
      "text/plain": [
       "0.0"
      ]
     },
     "execution_count": 18,
     "metadata": {},
     "output_type": "execute_result"
    }
   ],
   "source": [
    "earth_radius_m = 6371000\n",
    "distances_m = distances * earth_radius_m\n",
    "distances.min()"
   ]
  },
  {
   "cell_type": "code",
   "execution_count": 19,
   "metadata": {},
   "outputs": [
    {
     "data": {
      "text/plain": [
       "array([[359091],\n",
       "       [822858],\n",
       "       [ 17789],\n",
       "       ...,\n",
       "       [333375],\n",
       "       [859326],\n",
       "       [826257]], dtype=int64)"
      ]
     },
     "execution_count": 19,
     "metadata": {},
     "output_type": "execute_result"
    }
   ],
   "source": [
    "indices"
   ]
  },
  {
   "cell_type": "code",
   "execution_count": 12,
   "metadata": {},
   "outputs": [],
   "source": [
    "assert gas_dists.shape[0] == gas_arr.shape[0]\n",
    "assert gas_dists.shape[1] == fjernvarme_latlon.shape[0]"
   ]
  },
  {
   "cell_type": "code",
   "execution_count": 22,
   "metadata": {},
   "outputs": [],
   "source": [
    "#gaslat, gaslong = gt.points_to_wgs84(gas_koords[\"koordinat\"])\n",
    "gasx, gasy = gt.get_xy_from_points(gas_koords[\"koordinat\"])\n",
    "fjernvarme_x, fjernvarme_y = gt.get_xy_from_points(fjernvarme_koords[\"koordinat\"])"
   ]
  },
  {
   "cell_type": "code",
   "execution_count": 26,
   "metadata": {},
   "outputs": [
    {
     "data": {
      "text/plain": [
       "'POINT(0 0.5)'"
      ]
     },
     "execution_count": 26,
     "metadata": {},
     "output_type": "execute_result"
    }
   ],
   "source": [
    "na_idx = fjernvarme_x.argmin()\n",
    "\n",
    "fjernvarme_koords[\"koordinat\"].values[na_idx]"
   ]
  },
  {
   "cell_type": "code",
   "execution_count": 15,
   "metadata": {},
   "outputs": [
    {
     "data": {
      "text/plain": [
       "'POINT(0 0)'"
      ]
     },
     "execution_count": 15,
     "metadata": {},
     "output_type": "execute_result"
    }
   ],
   "source": [
    "na_idxs = gasx.argmin()\n",
    "\n",
    "gas_koords[\"koordinat\"].values[na_idxs]"
   ]
  },
  {
   "cell_type": "code",
   "execution_count": 14,
   "metadata": {},
   "outputs": [
    {
     "data": {
      "text/plain": [
       "array(['5'], dtype=object)"
      ]
     },
     "execution_count": 14,
     "metadata": {},
     "output_type": "execute_result"
    }
   ],
   "source": [
    "df[\"koordinatsystem\"].dropna().unique()"
   ]
  },
  {
   "cell_type": "code",
   "execution_count": 22,
   "metadata": {},
   "outputs": [
    {
     "name": "stdout",
     "output_type": "stream",
     "text": [
      "(3079428, 10)\n"
     ]
    },
    {
     "data": {
      "text/plain": [
       "1     898015\n",
       "9     890933\n",
       "2     696586\n",
       "7     327417\n",
       "5     193114\n",
       "3      51145\n",
       "6      20640\n",
       "99       794\n",
       "8        784\n",
       "Name: varmeinstallation, dtype: int64"
      ]
     },
     "execution_count": 22,
     "metadata": {},
     "output_type": "execute_result"
    }
   ],
   "source": [
    "print(df.shape)\n",
    "df[\"varmeinstallation\"].value_counts()"
   ]
  }
 ],
 "metadata": {
  "interpreter": {
   "hash": "c5923c95a727ee36eb19daf1b1449e67914ae9326dbd02e970c5c5d61e9f98bc"
  },
  "kernelspec": {
   "display_name": "Python 3.9.12 ('cds-lang')",
   "language": "python",
   "name": "python3"
  },
  "language_info": {
   "codemirror_mode": {
    "name": "ipython",
    "version": 3
   },
   "file_extension": ".py",
   "mimetype": "text/x-python",
   "name": "python",
   "nbconvert_exporter": "python",
   "pygments_lexer": "ipython3",
   "version": "3.9.12"
  },
  "orig_nbformat": 4
 },
 "nbformat": 4,
 "nbformat_minor": 2
}
